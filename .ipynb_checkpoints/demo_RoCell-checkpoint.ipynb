{
 "cells": [
  {
   "cell_type": "markdown",
   "id": "7f6076a3",
   "metadata": {},
   "source": [
    "# A demo for applying RoCell Workflow to scRNAseq data\n",
    "\n",
    "* `file` must be a `h5ad` file.\n",
    "* `min_var_pr` is the minimum variance of Pearson residual, a recommended value is 1.3.\n",
    "* `min_mean_exp` is the minimum value of mean expression (count).\n",
    "* `batch_label` is the column name for batches, this is dataset-specific.\n",
    "* `hvg_cutoff` is the minimum value for selecting highly-variable genes."
   ]
  },
  {
   "cell_type": "code",
   "execution_count": null,
   "id": "7e444425",
   "metadata": {},
   "outputs": [],
   "source": [
    "from RoCell import Workflow\n",
    "workflow = Workflow(file = 'path_to_data/adata.h5ad')"
   ]
  },
  {
   "cell_type": "code",
   "execution_count": null,
   "id": "0875b49a",
   "metadata": {},
   "outputs": [],
   "source": [
    "workflow.compute_Pearson_residual(min_var_pr = 1.3, min_mean_exp = 0.0008)"
   ]
  },
  {
   "cell_type": "code",
   "execution_count": null,
   "id": "2f2f8734",
   "metadata": {},
   "outputs": [],
   "source": [
    "genetic_variation = workflow.compute_features(batch_label = 'Batch')"
   ]
  },
  {
   "cell_type": "code",
   "execution_count": null,
   "id": "2e15fc0c",
   "metadata": {},
   "outputs": [],
   "source": [
    "adata_hvg = workflow.select_hvg(genetic_variation, hvg_cutoff = 2.2)"
   ]
  },
  {
   "cell_type": "code",
   "execution_count": null,
   "id": "1e3d198e",
   "metadata": {},
   "outputs": [],
   "source": [
    "adata_latent = workflow.dimension_reduction(adata_hvg)"
   ]
  },
  {
   "cell_type": "markdown",
   "id": "d920bc85",
   "metadata": {},
   "source": [
    "## UMAP Visualisation\n",
    "\n",
    "Visualisation is performed through the standard UMAP algorithm implemented by SCANPY"
   ]
  },
  {
   "cell_type": "code",
   "execution_count": null,
   "id": "35eb951e",
   "metadata": {},
   "outputs": [],
   "source": [
    "sc.pl.umap(adata_latent,color=['ae'], legend_loc='on data', frameon=False, add_outline=True,legend_fontsize=8)\n",
    "sc.pl.umap(adata_latent,color=['Cell_type'], frameon=False, legend_fontoutline=1, add_outline=True, legend_fontsize=6)"
   ]
  }
 ],
 "metadata": {
  "kernelspec": {
   "display_name": "Python 3 (ipykernel)",
   "language": "python",
   "name": "python3"
  },
  "language_info": {
   "codemirror_mode": {
    "name": "ipython",
    "version": 3
   },
   "file_extension": ".py",
   "mimetype": "text/x-python",
   "name": "python",
   "nbconvert_exporter": "python",
   "pygments_lexer": "ipython3",
   "version": "3.11.0"
  }
 },
 "nbformat": 4,
 "nbformat_minor": 5
}
