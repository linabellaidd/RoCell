{
 "cells": [
  {
   "cell_type": "markdown",
   "id": "1ad34578-af0e-4d37-b950-519fbf374158",
   "metadata": {},
   "source": [
    "# import packages"
   ]
  },
  {
   "cell_type": "code",
   "execution_count": 1,
   "id": "f700fa78-c7bd-4974-b34a-b17530b1e7f4",
   "metadata": {},
   "outputs": [
    {
     "name": "stderr",
     "output_type": "stream",
     "text": [
      "/opt/conda/envs/autocell-web-ui/lib/python3.8/site-packages/tqdm/auto.py:21: TqdmWarning: IProgress not found. Please update jupyter and ipywidgets. See https://ipywidgets.readthedocs.io/en/stable/user_install.html\n",
      "  from .autonotebook import tqdm as notebook_tqdm\n"
     ]
    }
   ],
   "source": [
    "import pandas as pd\n",
    "import scanpy as sc\n",
    "from anndata import read_h5ad\n",
    "from tools import *\n",
    "from multiprocessing import Pool\n",
    "import os\n",
    "import itertools"
   ]
  },
  {
   "cell_type": "markdown",
   "id": "5ffdd7b5-6b98-4362-81e1-bcee5b436f8d",
   "metadata": {},
   "source": [
    "# Load data and QC processing"
   ]
  },
  {
   "cell_type": "code",
   "execution_count": 2,
   "id": "0c935147-9e8e-42f6-bd65-9cc06d336146",
   "metadata": {
    "tags": []
   },
   "outputs": [],
   "source": [
    "adata_raw = read_h5ad('path_to_data/adata.h5ad')\n",
    "mito_genes = adata_raw.var['gene_ids'].str.startswith('MT-')\n",
    "adata_raw.obs['n_genes'] = sum(adata_raw.X > 0, axis=1)\n",
    "adata_raw.var['n_cells'] = sum(adata_raw.X > 0, axis=0).T\n",
    "if type(adata_raw.X) == np.ndarray:\n",
    "    adata_raw.obs['percent_mito'] = np.sum(\n",
    "        adata_raw[:, mito_genes].X, axis=1) / np.sum(adata_raw.X, axis=1)\n",
    "    adata_raw.obs['n_counts'] = adata_raw.X.sum(axis=1)\n",
    "else:\n",
    "    adata_raw.obs['percent_mito'] = np.sum(adata_raw[:, mito_genes].X, axis=1).A1 / np.sum(adata_raw.X, axis=1).A1\n",
    "    adata_raw.obs['n_counts'] = adata_raw.X.sum(axis=1).A1"
   ]
  },
  {
   "cell_type": "code",
   "execution_count": 3,
   "id": "d1f69362-fa14-4365-a88f-a26278a29531",
   "metadata": {
    "tags": []
   },
   "outputs": [
    {
     "name": "stdout",
     "output_type": "stream",
     "text": [
      "started with  9531  total cells and  32738  total genes\n",
      "removed 0 cells that did not express at least 200  genes\n",
      "removed 0 cells that did not have at least 1000 counts\n",
      "removed 13016 genes that were not expressed in at least 2 cells\n",
      "finished with 9531  total cells and 19722 total genes\n"
     ]
    }
   ],
   "source": [
    "adata = filter(adata_raw, min_genes=200, min_counts=1000, min_cells=2)"
   ]
  },
  {
   "cell_type": "markdown",
   "id": "d0c802e2-2ef7-415d-a0fe-bda158dce8b2",
   "metadata": {
    "tags": []
   },
   "source": [
    "# Analytic Pearson residual normalization"
   ]
  },
  {
   "cell_type": "code",
   "execution_count": 4,
   "id": "e13205b4-6f2a-4c6a-9b08-0e8a78726e79",
   "metadata": {
    "tags": []
   },
   "outputs": [],
   "source": [
    "adata.var['qc_gene_idx'] = list(range(len(adata.var))\n",
    "z = analytic_pearson_residuals(scipy.sparse.csr_matrix(adata.X), 100)\n",
    "var = np.squeeze(np.asarray(np.var(z,axis=0)))\n",
    "adata.var['pr_var'] = var \n",
    "means_exp= np.mean(adata.X,axis=0)\n",
    "adata.var['mean_expression'] = np.squeeze(np.asarray(means_exp))\n",
    "adata_apr = adata.copy()\n",
    "adata.X = z"
   ]
  },
  {
   "cell_type": "markdown",
   "id": "085d1bda-3501-4d5c-9d1c-435f2fd2219c",
   "metadata": {},
   "source": [
    "# Selection of analytic Pearson residual variated genes"
   ]
  },
  {
   "cell_type": "code",
   "execution_count": 5,
   "id": "a2760092-f963-4d19-9284-0f94ff08424f",
   "metadata": {
    "tags": []
   },
   "outputs": [],
   "source": [
    "aprg_mask = (adata.var.pr_var > 1.3) & (adata.var.mean_expression > 0.0008)"
   ]
  },
  {
   "cell_type": "markdown",
   "id": "f4bb1429-22d9-4b78-a5b8-a1c16ecde53c",
   "metadata": {},
   "source": [
    "# Calculation of batch expression descriptors"
   ]
  },
  {
   "cell_type": "code",
   "execution_count": null,
   "id": "e85a1fd7-8ae1-458f-b389-1fbc5157b6b7",
   "metadata": {
    "tags": []
   },
   "outputs": [],
   "source": [
    "adata.obs['qc_cell_idx'] = list(range(len(adata.obs)))\n",
    "batch_label = 'Batch'\n",
    "path  = './{}/batch_effect_feature'.format(batch_label)\n",
    "if not os.path.exists(path):\n",
    "    os.makedirs(path)\n",
    "batch = np.unique(adata.obs[batch_label])\n",
    "\n",
    "pair = []\n",
    "for pair_ in itertools.combinations(batch,2):\n",
    "    pair.append([pair_[0],pair_[1]])\n",
    "\n",
    "def get_batch_expression_descriptors(batch):\n",
    "    adata_X = adata.X\n",
    "    batch_id_a = batch\n",
    "    if 'qc_cell_idx' not in adata.obs.columns:\n",
    "        print('cell index is not define!')\n",
    "    else:\n",
    "        df_a = get_nb_parameter_df(adata_X[adata.obs.loc[adata.obs[batch_label] == batch_id_a].qc_cell_idx,:],aprg_mask)\n",
    "        df_a.to_excel(os.path.join(path,'{}.xlsx'.format(batch_id_a)))\n",
    "        print('excel file of batch {} has saved!'.format(batch_id_a))\n",
    "pool = Pool(36)                        \n",
    "pool.map(get_batch_expression_descriptors,batch) \n",
    "pool.close()\n",
    "pool.join()"
   ]
  },
  {
   "cell_type": "markdown",
   "id": "d63bd682-5392-4513-b68a-1311163c4ee2",
   "metadata": {},
   "source": [
    "# Caculation of cosine distance between each two batches of each APR-variated gene"
   ]
  },
  {
   "cell_type": "code",
   "execution_count": null,
   "id": "9db4bdf6-d065-4108-baa0-867eec7a0415",
   "metadata": {},
   "outputs": [],
   "source": [
    "path_  = './{}/cos_similarity'.format(batch)\n",
    "if not os.path.exists(path_):\n",
    "    os.makedirs(path_)\n",
    "    \n",
    "def get_batch_cos_sim(pair):\n",
    "    sample_id_a,sample_id_b = pair\n",
    "    df_a = pd.read_excel(os.path.join(path,sample_id_a+'.xlsx'))\n",
    "    df_b = pd.read_excel(os.path.join(path,sample_id_b+'.xlsx'))\n",
    "    df_ab = gene_batch_effect_profiling(df_a,df_b,sample_id_a,sample_id_b)\n",
    "    df_ab.to_excel(os.path.join(path_,sample_id_a+'_vs_'+ sample_id_b +'.xlsx'))\n",
    "    print('calculation of cos between {} and {} is done and saved!'.format(sample_id_a,sample_id_b))\n",
    "\n",
    "pool = Pool(36)                      \n",
    "pool.map(get_batch_cos_sim,pair) \n",
    "pool.close()\n",
    "pool.join()\n",
    "\n",
    "cs_dflist = []\n",
    "corr_dflist = []\n",
    "for i in range(len(pair)):\n",
    "    sample_a, sample_b = pair[i]\n",
    "    filename = sample_a + '_vs_' + sample_b + '.xlsx'\n",
    "    df_ = pd.read_excel(os.path.join(path_,filename))\n",
    "    cs_dflist.append(df_.iloc[:,1])\n",
    "    corr_dflist.append(df_.iloc[:,2])\n",
    "df_cs = pd.concat(cs_dflist,axis=1)\n",
    "df_r = pd.concat(corr_dflist,axis=1)"
   ]
  },
  {
   "cell_type": "markdown",
   "id": "d0710686-ecd7-44c6-92f2-9b62d00ba931",
   "metadata": {},
   "source": [
    "# Selection of highly variable genes"
   ]
  },
  {
   "cell_type": "code",
   "execution_count": null,
   "id": "c7c768e2-89b4-42dc-b062-791bc0f12e65",
   "metadata": {},
   "outputs": [],
   "source": [
    "df_cs.index = adata[:,aprg_mask].var.gene_ids.values\n",
    "df_rbg = df_cs.loc[df_cs.index.str.startswith('RPS') | df_cs.index.str.startswith('RPL')]\n",
    "relative_cs = (df_cs  - df_rbg.mean()).fillna(0).abs()\n",
    "bio_intensity = relative_cs.sum(axis=1)\n",
    "hvg_df = pd.DataFrame(bio_intensity)\n",
    "hvg_df['qc_gene_idx'] = adata[:,aprg_mask].var.qc_gene_idx.values\n",
    "adata_hvg = adata_apr[:,hvg_df[hvg_df.bio_intensity > 2.2].qc_gene_idx]"
   ]
  },
  {
   "cell_type": "markdown",
   "id": "788b3b3e-6281-4463-a53f-806e28b609c7",
   "metadata": {},
   "source": [
    "# Dimension reduction and clustering"
   ]
  },
  {
   "cell_type": "code",
   "execution_count": null,
   "id": "9b673488-664a-4c5f-939c-ccd246224c9b",
   "metadata": {},
   "outputs": [],
   "source": [
    "adata_hvg = sc.pp.scale(adata_hvg,zero_center=True, max_value=3,copy=True)\n",
    "adata_latent = dim_reduction_ae(adata_hvg)\n",
    "adata.obs['ae'] = adata_latent.obs.autoencoder.values"
   ]
  },
  {
   "cell_type": "markdown",
   "id": "6cf3ba63-b3ab-4593-b72b-5991ecc7982b",
   "metadata": {},
   "source": [
    "# UMAP visulization"
   ]
  },
  {
   "cell_type": "code",
   "execution_count": null,
   "id": "6e47eb7c-7cad-4654-a0f9-efcf2cdff1ab",
   "metadata": {},
   "outputs": [],
   "source": [
    "sc.pl.umap(adata_latent,color=['ae'],legend_loc='on data',frameon=False,add_outline=True,legend_fontsize=8)\n",
    "sc.pl.umap(adata_latent,color=['Cell_type'],frameon=False,legend_fontoutline=1,add_outline=True,legend_fontsize=6)"
   ]
  }
 ],
 "metadata": {
  "kernelspec": {
   "display_name": "Python 3 (ipykernel)",
   "language": "python",
   "name": "python3"
  },
  "language_info": {
   "codemirror_mode": {
    "name": "ipython",
    "version": 3
   },
   "file_extension": ".py",
   "mimetype": "text/x-python",
   "name": "python",
   "nbconvert_exporter": "python",
   "pygments_lexer": "ipython3",
   "version": "3.8.16"
  }
 },
 "nbformat": 4,
 "nbformat_minor": 5
}
