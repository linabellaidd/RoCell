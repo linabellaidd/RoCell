{
 "cells": [
  {
   "cell_type": "code",
   "execution_count": 1,
   "id": "44d97cf4",
   "metadata": {},
   "outputs": [
    {
     "name": "stderr",
     "output_type": "stream",
     "text": [
      "/root/miniconda3/envs/autocell/lib/python3.10/site-packages/tqdm/auto.py:21: TqdmWarning: IProgress not found. Please update jupyter and ipywidgets. See https://ipywidgets.readthedocs.io/en/stable/user_install.html\n",
      "  from .autonotebook import tqdm as notebook_tqdm\n"
     ]
    }
   ],
   "source": [
    "import RoCell"
   ]
  },
  {
   "cell_type": "markdown",
   "id": "be0775b0",
   "metadata": {},
   "source": [
    "### Load data and QC\n",
    "\n",
    "`file_name` is the path to the `h5ad` file (must ends with 'h5ad')\n",
    "\n",
    "`gene_id_col_label` is the name of column containing gene id information in the h5ad file"
   ]
  },
  {
   "cell_type": "code",
   "execution_count": 4,
   "id": "04821812",
   "metadata": {},
   "outputs": [
    {
     "name": "stdout",
     "output_type": "stream",
     "text": [
      "started with  3388  total cells and  32738  total genes\n",
      "finished with 3388  total cells and 32738 total genes\n"
     ]
    }
   ],
   "source": [
    "workflow = RoCell.Workflow(file_name = '/data/autocell/mix_raw_fullinfo.h5ad')\n",
    "workflow.preprocessing(gene_id_col_label = 'gene_ids')"
   ]
  },
  {
   "cell_type": "markdown",
   "id": "a6c904a7",
   "metadata": {},
   "source": [
    "### Compute the Pearson residual\n",
    "\n",
    "`min_var_pr` is the minimum variance of Pearson residual, a recommended value is 1.3.\n",
    "\n",
    "`min_mean_exp` is the minimum value of mean expression (count)."
   ]
  },
  {
   "cell_type": "code",
   "execution_count": 5,
   "id": "ee9324de",
   "metadata": {},
   "outputs": [],
   "source": [
    "workflow.compute_Pearson_residual(min_var_pr = 1.3, min_mean_exp = 0.1)"
   ]
  },
  {
   "cell_type": "markdown",
   "id": "298f15e7",
   "metadata": {},
   "source": [
    "### Compute the biological heterogeneity\n",
    "\n",
    "`batch_label` is the column name for batches, this is dataset-specific."
   ]
  },
  {
   "cell_type": "code",
   "execution_count": 6,
   "id": "fe4927ae",
   "metadata": {
    "scrolled": true
   },
   "outputs": [
    {
     "name": "stdout",
     "output_type": "stream",
     "text": [
      "compute batch-specific feature vector\n"
     ]
    },
    {
     "name": "stderr",
     "output_type": "stream",
     "text": [
      "100%|█████████████████████████████████████████████████████████████████████████████████████| 3/3 [00:10<00:00,  3.38s/it]"
     ]
    },
    {
     "name": "stdout",
     "output_type": "stream",
     "text": [
      "compute cosine similarity\n"
     ]
    },
    {
     "name": "stderr",
     "output_type": "stream",
     "text": [
      "\n",
      "100%|█████████████████████████████████████████████████████████████████████████████████████| 3/3 [00:04<00:00,  1.55s/it]\n"
     ]
    }
   ],
   "source": [
    "workflow.compute_biological_heterogeneity(batch_label = 'Species Call by SNV')"
   ]
  },
  {
   "cell_type": "markdown",
   "id": "f96498c3",
   "metadata": {},
   "source": [
    "### Select the highly variable gene (HVG)\n",
    "\n",
    "`hvg_min` is the minimum value for selecting highly-variable genes."
   ]
  },
  {
   "cell_type": "code",
   "execution_count": 8,
   "id": "9be227f8",
   "metadata": {},
   "outputs": [],
   "source": [
    "adata_hvg = workflow.select_hvg(hvg_min = 1.0)"
   ]
  },
  {
   "cell_type": "markdown",
   "id": "a3ee366f",
   "metadata": {},
   "source": [
    "### Autoencoder-augmented dimension reduction"
   ]
  },
  {
   "cell_type": "code",
   "execution_count": 9,
   "id": "6426c595",
   "metadata": {},
   "outputs": [
    {
     "name": "stdout",
     "output_type": "stream",
     "text": [
      "3 0.295561752298422\n",
      "6 0.2928627271737371\n",
      "9 0.28836576800261227\n",
      "12 0.28644366056791376\n",
      "15 0.2830533574202231\n",
      "18 0.28292297218975265\n",
      "21 0.27990661535346717\n",
      "24 0.2804543326298396\n",
      "27 0.27798003596918924\n",
      "------------------------------training is done!----------------------------\n"
     ]
    },
    {
     "data": {
      "image/png": "[encoded data removed]",
      "text/plain": [
       "<Figure size 200x200 with 1 Axes>"
      ]
     },
     "metadata": {},
     "output_type": "display_data"
    }
   ],
   "source": [
    "adata_latent = workflow.dimension_reduction(adata_hvg, device='cpu')"
   ]
  },
  {
   "cell_type": "code",
   "execution_count": null,
   "id": "e97e7d8a",
   "metadata": {},
   "outputs": [],
   "source": []
  }
 ],
 "metadata": {
  "kernelspec": {
   "display_name": "Python [conda env:autocell]",
   "language": "python",
   "name": "conda-env-autocell-py"
  },
  "language_info": {
   "codemirror_mode": {
    "name": "ipython",
    "version": 3
   },
   "file_extension": ".py",
   "mimetype": "text/x-python",
   "name": "python",
   "nbconvert_exporter": "python",
   "pygments_lexer": "ipython3",
   "version": "3.10.13"
  }
 },
 "nbformat": 4,
 "nbformat_minor": 5
}
